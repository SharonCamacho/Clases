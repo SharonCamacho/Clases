{
  "nbformat": 4,
  "nbformat_minor": 0,
  "metadata": {
    "colab": {
      "name": "Numpy.ipynb",
      "provenance": [],
      "authorship_tag": "ABX9TyM74NmxGsH9rT0CbL+Ll/3k",
      "include_colab_link": true
    },
    "kernelspec": {
      "name": "python3",
      "display_name": "Python 3"
    }
  },
  "cells": [
    {
      "cell_type": "markdown",
      "metadata": {
        "id": "view-in-github",
        "colab_type": "text"
      },
      "source": [
        "<a href=\"https://colab.research.google.com/github/SharonCamacho/Clases/blob/main/Numpy.ipynb\" target=\"_parent\"><img src=\"https://colab.research.google.com/assets/colab-badge.svg\" alt=\"Open In Colab\"/></a>"
      ]
    },
    {
      "cell_type": "markdown",
      "metadata": {
        "id": "lS6dBZOOsL6A"
      },
      "source": [
        "# Numpy"
      ]
    },
    {
      "cell_type": "markdown",
      "metadata": {
        "id": "Jr-ObpwY3X2E"
      },
      "source": [
        "*Tomado de **Python Data Science Handbook** de Jake VanderPlas*"
      ]
    },
    {
      "cell_type": "markdown",
      "metadata": {
        "id": "28IY467eyPRV"
      },
      "source": [
        "*   Proveniente de Numerical Python\n",
        "*   Estructura de datos propia: los arrays que hace más eficiente el manejo de datos\n",
        "\n"
      ]
    },
    {
      "cell_type": "code",
      "metadata": {
        "id": "dwfdCte5sLEn"
      },
      "source": [
        "#Importamos la librería\n",
        "import numpy as np"
      ],
      "execution_count": 2,
      "outputs": []
    },
    {
      "cell_type": "code",
      "metadata": {
        "id": "BBlrTTaEsRv9",
        "outputId": "abbf27f8-339b-44a0-e9d5-8ca3f0b242ab",
        "colab": {
          "base_uri": "https://localhost:8080/",
          "height": 171
        }
      },
      "source": [
        "numpy.__version__\n",
        "#Genera un error porque cuando importé la librería \n",
        "#indiqué que iba a usar un alias"
      ],
      "execution_count": 2,
      "outputs": [
        {
          "output_type": "error",
          "ename": "NameError",
          "evalue": "ignored",
          "traceback": [
            "\u001b[0;31m---------------------------------------------------------------------------\u001b[0m",
            "\u001b[0;31mNameError\u001b[0m                                 Traceback (most recent call last)",
            "\u001b[0;32m<ipython-input-2-fb7ec2e709c6>\u001b[0m in \u001b[0;36m<module>\u001b[0;34m()\u001b[0m\n\u001b[0;32m----> 1\u001b[0;31m \u001b[0mnumpy\u001b[0m\u001b[0;34m.\u001b[0m\u001b[0m__version__\u001b[0m\u001b[0;34m\u001b[0m\u001b[0;34m\u001b[0m\u001b[0m\n\u001b[0m",
            "\u001b[0;31mNameError\u001b[0m: name 'numpy' is not defined"
          ]
        }
      ]
    },
    {
      "cell_type": "code",
      "metadata": {
        "id": "2Q0GSGU8sXEK",
        "outputId": "f3f8ba08-9aae-4ac2-bce7-8e1120d1da3e",
        "colab": {
          "base_uri": "https://localhost:8080/",
          "height": 35
        }
      },
      "source": [
        "np.__version__"
      ],
      "execution_count": 5,
      "outputs": [
        {
          "output_type": "execute_result",
          "data": {
            "application/vnd.google.colaboratory.intrinsic+json": {
              "type": "string"
            },
            "text/plain": [
              "'1.18.5'"
            ]
          },
          "metadata": {
            "tags": []
          },
          "execution_count": 5
        }
      ]
    },
    {
      "cell_type": "code",
      "metadata": {
        "id": "rxl-DarMsi5j"
      },
      "source": [
        "#para tener información acerca de numpy\n",
        "np?"
      ],
      "execution_count": 6,
      "outputs": []
    },
    {
      "cell_type": "code",
      "metadata": {
        "id": "PuhmjLAqstIz"
      },
      "source": [
        "#Ejemplo\n",
        "np.max?"
      ],
      "execution_count": 7,
      "outputs": []
    },
    {
      "cell_type": "markdown",
      "metadata": {
        "id": "NgKAWwooyILa"
      },
      "source": [
        "## Crear **arrays**"
      ]
    },
    {
      "cell_type": "markdown",
      "metadata": {
        "id": "asbf1lZQ0y8P"
      },
      "source": [
        "No olvides que los arrays solo contienen un tipo de datos"
      ]
    },
    {
      "cell_type": "code",
      "metadata": {
        "id": "nn9rewL2s1uj",
        "outputId": "682d98bb-2a39-402e-b499-e2548f35b790",
        "colab": {
          "base_uri": "https://localhost:8080/",
          "height": 35
        }
      },
      "source": [
        "# Crear un array de enteros:\n",
        "np.array([1, 4, 2, 5, 3])"
      ],
      "execution_count": 8,
      "outputs": [
        {
          "output_type": "execute_result",
          "data": {
            "text/plain": [
              "array([1, 4, 2, 5, 3])"
            ]
          },
          "metadata": {
            "tags": []
          },
          "execution_count": 8
        }
      ]
    },
    {
      "cell_type": "code",
      "metadata": {
        "id": "2Yuu2IYsyoaI",
        "outputId": "4c83ba8c-cff7-434e-bfa0-c6067c16c38b",
        "colab": {
          "base_uri": "https://localhost:8080/",
          "height": 35
        }
      },
      "source": [
        "#Como solo puede contener un tipo de datos los int se convierten en float\n",
        "np.array([3.14, 4, 2, 3])"
      ],
      "execution_count": 9,
      "outputs": [
        {
          "output_type": "execute_result",
          "data": {
            "text/plain": [
              "array([3.14, 4.  , 2.  , 3.  ])"
            ]
          },
          "metadata": {
            "tags": []
          },
          "execution_count": 9
        }
      ]
    },
    {
      "cell_type": "code",
      "metadata": {
        "id": "jdbPdCeH1Hla",
        "outputId": "ee3d0796-3a3c-4fa5-8beb-58047a3d64b1",
        "colab": {
          "base_uri": "https://localhost:8080/",
          "height": 35
        }
      },
      "source": [
        "#Si queremos especificar el tipo podemos usar dtipe\n",
        "np.array([3.14, 4, 2, 3], dtype='int')"
      ],
      "execution_count": 10,
      "outputs": [
        {
          "output_type": "execute_result",
          "data": {
            "text/plain": [
              "array([3, 4, 2, 3])"
            ]
          },
          "metadata": {
            "tags": []
          },
          "execution_count": 10
        }
      ]
    },
    {
      "cell_type": "markdown",
      "metadata": {
        "id": "UUySK8vM1aHx"
      },
      "source": [
        "A diferencia de las listas de Python, las matrices NumPy pueden ser explícitamente multidimensionales"
      ]
    },
    {
      "cell_type": "code",
      "metadata": {
        "id": "kLmKrenS1jWq",
        "outputId": "de39013c-c4ec-4883-b04e-31bbe85dab17",
        "colab": {
          "base_uri": "https://localhost:8080/",
          "height": 72
        }
      },
      "source": [
        "# Una lista de lista me da un array multidimensional\n",
        "np.array([range(i, i + 3) for i in [2, 4, 6]])"
      ],
      "execution_count": 11,
      "outputs": [
        {
          "output_type": "execute_result",
          "data": {
            "text/plain": [
              "array([[2, 3, 4],\n",
              "       [4, 5, 6],\n",
              "       [6, 7, 8]])"
            ]
          },
          "metadata": {
            "tags": []
          },
          "execution_count": 11
        }
      ]
    },
    {
      "cell_type": "markdown",
      "metadata": {
        "id": "2GYbNE0-1vRD"
      },
      "source": [
        ">>> ***OJO AQUÍ EXPLICAR LIST COMPRENHENCIÖN***"
      ]
    },
    {
      "cell_type": "markdown",
      "metadata": {
        "id": "5wu4XQwk2ETo"
      },
      "source": [
        "## Crear arrays DUMMIES desde cero "
      ]
    },
    {
      "cell_type": "markdown",
      "metadata": {
        "id": "WkJXmVBk2Tnr"
      },
      "source": [
        "Es más eficiente crear matrices desde cero usando rutinas integradas en NumPy."
      ]
    },
    {
      "cell_type": "code",
      "metadata": {
        "id": "vkhpH-st2Jza",
        "outputId": "40670bb8-fc01-487c-a7e9-1f8edb89759f",
        "colab": {
          "base_uri": "https://localhost:8080/",
          "height": 35
        }
      },
      "source": [
        "# Crear un array de longitud 10 lleno con 0\n",
        "np.zeros(10, dtype=int)"
      ],
      "execution_count": 12,
      "outputs": [
        {
          "output_type": "execute_result",
          "data": {
            "text/plain": [
              "array([0, 0, 0, 0, 0, 0, 0, 0, 0, 0])"
            ]
          },
          "metadata": {
            "tags": []
          },
          "execution_count": 12
        }
      ]
    },
    {
      "cell_type": "code",
      "metadata": {
        "id": "c6_--okh2mKL",
        "outputId": "bf7b8a12-2558-4ebe-9f88-a7af02cf9a58",
        "colab": {
          "base_uri": "https://localhost:8080/",
          "height": 72
        }
      },
      "source": [
        "# Crear un array de 3X5 llenado con 1 tipo flotante\n",
        "np.ones((3, 5), dtype=float)"
      ],
      "execution_count": 13,
      "outputs": [
        {
          "output_type": "execute_result",
          "data": {
            "text/plain": [
              "array([[1., 1., 1., 1., 1.],\n",
              "       [1., 1., 1., 1., 1.],\n",
              "       [1., 1., 1., 1., 1.]])"
            ]
          },
          "metadata": {
            "tags": []
          },
          "execution_count": 13
        }
      ]
    },
    {
      "cell_type": "code",
      "metadata": {
        "id": "zQhNLkgJ2oNK",
        "outputId": "5472103b-931c-4941-c139-cc2fd12f3c8d",
        "colab": {
          "base_uri": "https://localhost:8080/",
          "height": 72
        }
      },
      "source": [
        "# Crear un array de 3X5 llenado con 3.14\n",
        "np.full((3, 5), 3.14)"
      ],
      "execution_count": 14,
      "outputs": [
        {
          "output_type": "execute_result",
          "data": {
            "text/plain": [
              "array([[3.14, 3.14, 3.14, 3.14, 3.14],\n",
              "       [3.14, 3.14, 3.14, 3.14, 3.14],\n",
              "       [3.14, 3.14, 3.14, 3.14, 3.14]])"
            ]
          },
          "metadata": {
            "tags": []
          },
          "execution_count": 14
        }
      ]
    },
    {
      "cell_type": "code",
      "metadata": {
        "id": "zmyluonP2qy1",
        "outputId": "ed81537d-b5f6-4cac-a883-c8238684d5c2",
        "colab": {
          "base_uri": "https://localhost:8080/",
          "height": 35
        }
      },
      "source": [
        "# Crear un array con una secuencia\n",
        "# Inica en 0, termina en 20 con pasos de 2\n",
        "\n",
        "np.arange(0, 20, 2)\n",
        "\n",
        "#Notar que el 20 no es incluyente"
      ],
      "execution_count": 15,
      "outputs": [
        {
          "output_type": "execute_result",
          "data": {
            "text/plain": [
              "array([ 0,  2,  4,  6,  8, 10, 12, 14, 16, 18])"
            ]
          },
          "metadata": {
            "tags": []
          },
          "execution_count": 15
        }
      ]
    },
    {
      "cell_type": "code",
      "metadata": {
        "id": "jnk-1w-U2uBr",
        "outputId": "2410476f-26dd-4d7f-fc4f-377dc981d526",
        "colab": {
          "base_uri": "https://localhost:8080/",
          "height": 35
        }
      },
      "source": [
        "# Cree un array de cinco valores espaciados uniformemente entre 0 y 1\n",
        "np.linspace(0, 1, 5)\n",
        "\n",
        "#Aquí el 1 es incluyente"
      ],
      "execution_count": 16,
      "outputs": [
        {
          "output_type": "execute_result",
          "data": {
            "text/plain": [
              "array([0.  , 0.25, 0.5 , 0.75, 1.  ])"
            ]
          },
          "metadata": {
            "tags": []
          },
          "execution_count": 16
        }
      ]
    },
    {
      "cell_type": "code",
      "metadata": {
        "id": "BS-KJBSr2vkV",
        "outputId": "5abb7d9e-bf6f-418f-9c73-8273b502582c",
        "colab": {
          "base_uri": "https://localhost:8080/",
          "height": 72
        }
      },
      "source": [
        "# Cree un array de 3x3 de distribución uniforme\n",
        "# Valores aleatorios entre 0 y 1 \n",
        "\n",
        "np.random.random((3, 3))"
      ],
      "execution_count": 17,
      "outputs": [
        {
          "output_type": "execute_result",
          "data": {
            "text/plain": [
              "array([[0.93953023, 0.15738533, 0.88286553],\n",
              "       [0.7723468 , 0.85694514, 0.71728464],\n",
              "       [0.84398222, 0.01335731, 0.55065689]])"
            ]
          },
          "metadata": {
            "tags": []
          },
          "execution_count": 17
        }
      ]
    },
    {
      "cell_type": "markdown",
      "metadata": {
        "id": "rPHD3mBV44ZM"
      },
      "source": [
        ">> # **Agregar foto de distribución uniforme**\n",
        "\n",
        "\n",
        "\n"
      ]
    },
    {
      "cell_type": "code",
      "metadata": {
        "id": "YFPe7tQo2xsD",
        "outputId": "25e9fd6a-9d7d-42ad-a4c7-2052a6adaaf9",
        "colab": {
          "base_uri": "https://localhost:8080/",
          "height": 72
        }
      },
      "source": [
        "# Cree un array de 3x3 de distribución normal\n",
        "# Valores aleatorios con media 0 y desviación estandar 1 \n",
        "\n",
        "np.random.normal(0, 1, (3, 3))"
      ],
      "execution_count": 18,
      "outputs": [
        {
          "output_type": "execute_result",
          "data": {
            "text/plain": [
              "array([[ 0.32648678, -0.72606178, -0.56779108],\n",
              "       [-0.20434653, -0.18033496, -0.89287188],\n",
              "       [-1.61745905,  0.41509747,  0.23666678]])"
            ]
          },
          "metadata": {
            "tags": []
          },
          "execution_count": 18
        }
      ]
    },
    {
      "cell_type": "markdown",
      "metadata": {
        "id": "Y7icF2CN5Odw"
      },
      "source": [
        ">> # **Agregar foto de distribución normal**"
      ]
    },
    {
      "cell_type": "code",
      "metadata": {
        "id": "9C3SVbBD21E5",
        "outputId": "fd82a50c-4c36-4ba2-d829-0e3538604ee2",
        "colab": {
          "base_uri": "https://localhost:8080/",
          "height": 72
        }
      },
      "source": [
        "# Cree un array de 3x3\n",
        "# con enteros aleatorios en un intervalo de [0,10)\n",
        "np.random.randint(0, 10, (3, 3))"
      ],
      "execution_count": 19,
      "outputs": [
        {
          "output_type": "execute_result",
          "data": {
            "text/plain": [
              "array([[2, 9, 4],\n",
              "       [8, 3, 1],\n",
              "       [1, 5, 5]])"
            ]
          },
          "metadata": {
            "tags": []
          },
          "execution_count": 19
        }
      ]
    },
    {
      "cell_type": "code",
      "metadata": {
        "id": "0J3Bj9rb21yR",
        "outputId": "97d2aa9f-c123-4186-b33f-1518e1062e70",
        "colab": {
          "base_uri": "https://localhost:8080/",
          "height": 72
        }
      },
      "source": [
        "# Crre un array 3x3 con la matriz identidad\n",
        "np.eye(3)"
      ],
      "execution_count": 20,
      "outputs": [
        {
          "output_type": "execute_result",
          "data": {
            "text/plain": [
              "array([[1., 0., 0.],\n",
              "       [0., 1., 0.],\n",
              "       [0., 0., 1.]])"
            ]
          },
          "metadata": {
            "tags": []
          },
          "execution_count": 20
        }
      ]
    },
    {
      "cell_type": "code",
      "metadata": {
        "id": "x7Wr7xKZ26aC",
        "outputId": "94ad659b-d014-4cf5-95e2-4938ee8a428a",
        "colab": {
          "base_uri": "https://localhost:8080/",
          "height": 35
        }
      },
      "source": [
        "# Cree una matriz no inicializada de tres enteros\n",
        "# Los valores serán lo que suceda que ya exista en esa ubicación de memoria\n",
        "np.empty(3)"
      ],
      "execution_count": 21,
      "outputs": [
        {
          "output_type": "execute_result",
          "data": {
            "text/plain": [
              "array([1., 1., 1.])"
            ]
          },
          "metadata": {
            "tags": []
          },
          "execution_count": 21
        }
      ]
    },
    {
      "cell_type": "code",
      "metadata": {
        "id": "imjn_qi954Ir"
      },
      "source": [
        "np.empty?"
      ],
      "execution_count": 4,
      "outputs": []
    },
    {
      "cell_type": "markdown",
      "metadata": {
        "id": "GYOYejf424Dh"
      },
      "source": [
        "\n",
        "\"vacío, a diferencia de los ceros, no establece los valores de la matriz en cero y, por lo tanto, puede ser ligeramente más rápido. Por otro lado, requiere que el usuario establezca manualmente todos los valores de la matriz y debe usarse con precaución\" (https://bit.ly/3iKLKaV)"
      ]
    },
    {
      "cell_type": "markdown",
      "metadata": {
        "id": "A7U5f8Tv95Jp"
      },
      "source": [
        "## Lo básico de los array"
      ]
    },
    {
      "cell_type": "markdown",
      "metadata": {
        "id": "vVAkDf1X97TN"
      },
      "source": [
        "### Atributos"
      ]
    },
    {
      "cell_type": "code",
      "metadata": {
        "id": "3j9SV4xJ-AR3"
      },
      "source": [
        "#Creamos una semilla para obtener los mismos resultados\n",
        "np.random.seed(0)"
      ],
      "execution_count": 22,
      "outputs": []
    },
    {
      "cell_type": "code",
      "metadata": {
        "id": "6xZmSd64-Jrx"
      },
      "source": [
        "#Creo un array\n",
        "x3 = np.random.randint(10, size=(3, 4, 5))"
      ],
      "execution_count": 90,
      "outputs": []
    },
    {
      "cell_type": "code",
      "metadata": {
        "id": "KP2pZNJM_Emq",
        "outputId": "dc69fbce-16ce-432e-dcb9-fb7b0c8eda65",
        "colab": {
          "base_uri": "https://localhost:8080/",
          "height": 272
        }
      },
      "source": [
        "x3\n",
        "#observar que no trae valores mayores a 10"
      ],
      "execution_count": 91,
      "outputs": [
        {
          "output_type": "execute_result",
          "data": {
            "text/plain": [
              "array([[[7, 9, 1, 9, 6],\n",
              "        [0, 3, 8, 4, 1],\n",
              "        [4, 5, 0, 3, 1],\n",
              "        [4, 4, 4, 0, 0]],\n",
              "\n",
              "       [[8, 4, 6, 9, 3],\n",
              "        [3, 2, 1, 2, 1],\n",
              "        [3, 4, 1, 1, 0],\n",
              "        [7, 8, 4, 3, 5]],\n",
              "\n",
              "       [[6, 3, 2, 9, 8],\n",
              "        [1, 4, 0, 8, 3],\n",
              "        [9, 5, 5, 1, 7],\n",
              "        [8, 6, 4, 7, 3]]])"
            ]
          },
          "metadata": {
            "tags": []
          },
          "execution_count": 91
        }
      ]
    },
    {
      "cell_type": "code",
      "metadata": {
        "id": "uGMyjvey-Owc",
        "outputId": "c2033830-47fa-47ff-8074-a1333124983d",
        "colab": {
          "base_uri": "https://localhost:8080/",
          "height": 90
        }
      },
      "source": [
        "#Muestro los atributos de ese array\n",
        "print(\"x3 dimensión: \", x3.ndim)\n",
        "print(\"x3 forma:\", x3.shape)\n",
        "print(\"x3 tamaño: \", x3.size)\n",
        "print(\"x3 tipo de dato: \", x3.dtype)"
      ],
      "execution_count": 47,
      "outputs": [
        {
          "output_type": "stream",
          "text": [
            "x3 dimensión:  3\n",
            "x3 forma: (3, 4, 5)\n",
            "x3 tamaño:  60\n",
            "x3 tipo de dato:  int64\n"
          ],
          "name": "stdout"
        }
      ]
    },
    {
      "cell_type": "code",
      "metadata": {
        "id": "vhQ60EReACkJ",
        "outputId": "183b1a71-0a6f-4935-eaec-c709ad69a921",
        "colab": {
          "base_uri": "https://localhost:8080/",
          "height": 54
        }
      },
      "source": [
        "print(\"itemsize:\", x3.itemsize, \"bytes\") #Tamaño de cada elemento\n",
        "print(\"nbytes:\", x3.nbytes, \"bytes\") #Tamaño del array"
      ],
      "execution_count": 48,
      "outputs": [
        {
          "output_type": "stream",
          "text": [
            "itemsize: 8 bytes\n",
            "nbytes: 480 bytes\n"
          ],
          "name": "stdout"
        }
      ]
    },
    {
      "cell_type": "markdown",
      "metadata": {
        "id": "cjYW-XD9AMlE"
      },
      "source": [
        "### Indexación"
      ]
    },
    {
      "cell_type": "code",
      "metadata": {
        "id": "g_d2y4O0A4ef",
        "outputId": "c7df9a25-9cd3-4fc0-f473-7fbaca47ed69",
        "colab": {
          "base_uri": "https://localhost:8080/",
          "height": 272
        }
      },
      "source": [
        "x3"
      ],
      "execution_count": 52,
      "outputs": [
        {
          "output_type": "execute_result",
          "data": {
            "text/plain": [
              "array([[[7, 8, 5, 0, 8],\n",
              "        [5, 4, 7, 4, 1],\n",
              "        [3, 3, 9, 2, 5],\n",
              "        [2, 3, 5, 7, 2]],\n",
              "\n",
              "       [[7, 1, 6, 5, 0],\n",
              "        [0, 3, 1, 9, 9],\n",
              "        [6, 6, 7, 8, 8],\n",
              "        [7, 0, 8, 6, 8]],\n",
              "\n",
              "       [[9, 8, 3, 6, 1],\n",
              "        [7, 4, 9, 2, 0],\n",
              "        [8, 2, 7, 8, 4],\n",
              "        [4, 1, 7, 6, 9]]])"
            ]
          },
          "metadata": {
            "tags": []
          },
          "execution_count": 52
        }
      ]
    },
    {
      "cell_type": "code",
      "metadata": {
        "id": "jLgslRpPASfY",
        "outputId": "53eddb96-2f19-47db-902f-b0ac40db2fbc",
        "colab": {
          "base_uri": "https://localhost:8080/",
          "height": 90
        }
      },
      "source": [
        "x3[1]"
      ],
      "execution_count": 49,
      "outputs": [
        {
          "output_type": "execute_result",
          "data": {
            "text/plain": [
              "array([[7, 1, 6, 5, 0],\n",
              "       [0, 3, 1, 9, 9],\n",
              "       [6, 6, 7, 8, 8],\n",
              "       [7, 0, 8, 6, 8]])"
            ]
          },
          "metadata": {
            "tags": []
          },
          "execution_count": 49
        }
      ]
    },
    {
      "cell_type": "code",
      "metadata": {
        "id": "Tr0SGdSFAtGL",
        "outputId": "f0b24855-a5ab-4c85-b09d-e8a464cae672",
        "colab": {
          "base_uri": "https://localhost:8080/",
          "height": 35
        }
      },
      "source": [
        "x3[1][2]"
      ],
      "execution_count": 50,
      "outputs": [
        {
          "output_type": "execute_result",
          "data": {
            "text/plain": [
              "array([6, 6, 7, 8, 8])"
            ]
          },
          "metadata": {
            "tags": []
          },
          "execution_count": 50
        }
      ]
    },
    {
      "cell_type": "code",
      "metadata": {
        "id": "Pv4O4oTwAzVw",
        "outputId": "7b4fbea5-02ae-4972-93a2-4a254348bbd0",
        "colab": {
          "base_uri": "https://localhost:8080/",
          "height": 35
        }
      },
      "source": [
        "x3[1][2][2]"
      ],
      "execution_count": 51,
      "outputs": [
        {
          "output_type": "execute_result",
          "data": {
            "text/plain": [
              "7"
            ]
          },
          "metadata": {
            "tags": []
          },
          "execution_count": 51
        }
      ]
    },
    {
      "cell_type": "code",
      "metadata": {
        "id": "5m7N0rbwBfNa",
        "outputId": "6ded6e6c-181a-4ef3-bb15-b70b814caedc",
        "colab": {
          "base_uri": "https://localhost:8080/",
          "height": 35
        }
      },
      "source": [
        "x3[1][2][-1]"
      ],
      "execution_count": 53,
      "outputs": [
        {
          "output_type": "execute_result",
          "data": {
            "text/plain": [
              "8"
            ]
          },
          "metadata": {
            "tags": []
          },
          "execution_count": 53
        }
      ]
    },
    {
      "cell_type": "code",
      "metadata": {
        "id": "31NFFuwaBmyo",
        "outputId": "10668e05-163a-4cca-c2db-8c275fa34013",
        "colab": {
          "base_uri": "https://localhost:8080/",
          "height": 35
        }
      },
      "source": [
        "x3[1,2,2]"
      ],
      "execution_count": 56,
      "outputs": [
        {
          "output_type": "execute_result",
          "data": {
            "text/plain": [
              "7"
            ]
          },
          "metadata": {
            "tags": []
          },
          "execution_count": 56
        }
      ]
    },
    {
      "cell_type": "code",
      "metadata": {
        "id": "ypOdXRmuBw6Q",
        "outputId": "d868c969-0aa9-4a86-900a-97095a47a572",
        "colab": {
          "base_uri": "https://localhost:8080/",
          "height": 35
        }
      },
      "source": [
        "x3[1,2,2] = 20.892\n",
        "x3[1,2]"
      ],
      "execution_count": 59,
      "outputs": [
        {
          "output_type": "execute_result",
          "data": {
            "text/plain": [
              "array([ 6,  6, 20,  8,  8])"
            ]
          },
          "metadata": {
            "tags": []
          },
          "execution_count": 59
        }
      ]
    },
    {
      "cell_type": "markdown",
      "metadata": {
        "id": "FS4TwwncCTfw"
      },
      "source": [
        "### Slicing"
      ]
    },
    {
      "cell_type": "markdown",
      "metadata": {
        "id": "av6eTOHTCYNG"
      },
      "source": [
        "x[start : stop : step]\n",
        "\n",
        "si no se especifican los valores start=0, stop=tamaño de la dimensión, step=1\n"
      ]
    },
    {
      "cell_type": "markdown",
      "metadata": {
        "id": "nVv5d7wiF4Bz"
      },
      "source": [
        "cuando trabajamos con grandes conjuntos de datos, podemos acceder y procesar partes de estos conjuntos de datos sin la necesidad de copiar el búfer de datos subyacente."
      ]
    },
    {
      "cell_type": "markdown",
      "metadata": {
        "id": "8crI76fkC6Aq"
      },
      "source": [
        "#### De una dimensión"
      ]
    },
    {
      "cell_type": "code",
      "metadata": {
        "id": "Z4hBeb43CVyi",
        "outputId": "46e181c9-16c5-48a7-b84a-66713a7198ff",
        "colab": {
          "base_uri": "https://localhost:8080/",
          "height": 35
        }
      },
      "source": [
        "x = np.arange(10)\n",
        "x"
      ],
      "execution_count": 60,
      "outputs": [
        {
          "output_type": "execute_result",
          "data": {
            "text/plain": [
              "array([0, 1, 2, 3, 4, 5, 6, 7, 8, 9])"
            ]
          },
          "metadata": {
            "tags": []
          },
          "execution_count": 60
        }
      ]
    },
    {
      "cell_type": "code",
      "metadata": {
        "id": "iOqG7ZnfCwjf"
      },
      "source": [
        "x[:5]  # first five elements"
      ],
      "execution_count": null,
      "outputs": []
    },
    {
      "cell_type": "code",
      "metadata": {
        "id": "Nngg9zziCy-G"
      },
      "source": [
        "x[5:]  # elements after index 5"
      ],
      "execution_count": null,
      "outputs": []
    },
    {
      "cell_type": "code",
      "metadata": {
        "id": "4bPcg1EMC3tt"
      },
      "source": [
        "x[4:7]  # middle sub-array"
      ],
      "execution_count": null,
      "outputs": []
    },
    {
      "cell_type": "code",
      "metadata": {
        "id": "z7xcy0pmC9F4"
      },
      "source": [
        "x[::2]  # every other element"
      ],
      "execution_count": null,
      "outputs": []
    },
    {
      "cell_type": "code",
      "metadata": {
        "id": "OXQFmi2jDAtj"
      },
      "source": [
        "x[::-1]  # all elements, reversed"
      ],
      "execution_count": null,
      "outputs": []
    },
    {
      "cell_type": "markdown",
      "metadata": {
        "id": "nS6WIMewDDyf"
      },
      "source": [
        "#### Varias dimensiones"
      ]
    },
    {
      "cell_type": "code",
      "metadata": {
        "id": "htQDgIY1DDBv",
        "outputId": "6cc0dd8c-334f-45b9-9217-54d2f0c6f3da",
        "colab": {
          "base_uri": "https://localhost:8080/",
          "height": 72
        }
      },
      "source": [
        "x2 = np.random.randint(10, size=(3, 4))  # Two-dimensional array\n",
        "x2"
      ],
      "execution_count": 64,
      "outputs": [
        {
          "output_type": "execute_result",
          "data": {
            "text/plain": [
              "array([[4, 1, 5, 9],\n",
              "       [7, 1, 3, 5],\n",
              "       [7, 3, 6, 6]])"
            ]
          },
          "metadata": {
            "tags": []
          },
          "execution_count": 64
        }
      ]
    },
    {
      "cell_type": "code",
      "metadata": {
        "id": "SigG0erbDNew",
        "outputId": "fc17b461-84aa-4902-fd9e-ecb371a25c2a",
        "colab": {
          "base_uri": "https://localhost:8080/",
          "height": 54
        }
      },
      "source": [
        "x2[:2, :3]  # two rows, three columns"
      ],
      "execution_count": 65,
      "outputs": [
        {
          "output_type": "execute_result",
          "data": {
            "text/plain": [
              "array([[4, 1, 5],\n",
              "       [7, 1, 3]])"
            ]
          },
          "metadata": {
            "tags": []
          },
          "execution_count": 65
        }
      ]
    },
    {
      "cell_type": "code",
      "metadata": {
        "id": "oCePwohcFgXW",
        "outputId": "dc10523c-73bf-4c8a-b287-ad1e4b558eda",
        "colab": {
          "base_uri": "https://localhost:8080/",
          "height": 54
        }
      },
      "source": [
        "#Las dos primeras filas\n",
        "x2[:2]"
      ],
      "execution_count": 74,
      "outputs": [
        {
          "output_type": "execute_result",
          "data": {
            "text/plain": [
              "array([[4, 1, 5, 9],\n",
              "       [7, 1, 3, 5]])"
            ]
          },
          "metadata": {
            "tags": []
          },
          "execution_count": 74
        }
      ]
    },
    {
      "cell_type": "code",
      "metadata": {
        "id": "prz8ze1gFS1u",
        "outputId": "f0ae1da9-9106-4751-d85e-71a5c0363ccd",
        "colab": {
          "base_uri": "https://localhost:8080/",
          "height": 72
        }
      },
      "source": [
        "#Las dos últimas columnas\n",
        "x2[:,-2:]"
      ],
      "execution_count": 73,
      "outputs": [
        {
          "output_type": "execute_result",
          "data": {
            "text/plain": [
              "array([[5, 9],\n",
              "       [3, 5],\n",
              "       [6, 6]])"
            ]
          },
          "metadata": {
            "tags": []
          },
          "execution_count": 73
        }
      ]
    },
    {
      "cell_type": "markdown",
      "metadata": {
        "id": "OPRvSh9fEAWB"
      },
      "source": [
        "como sería sacar un cubo de 2x2x2"
      ]
    },
    {
      "cell_type": "code",
      "metadata": {
        "id": "7XioyhvlDeKb",
        "outputId": "51cff07c-6fa6-4535-c2a6-7ed86e654bf6",
        "colab": {
          "base_uri": "https://localhost:8080/",
          "height": 272
        }
      },
      "source": [
        "x3"
      ],
      "execution_count": 66,
      "outputs": [
        {
          "output_type": "execute_result",
          "data": {
            "text/plain": [
              "array([[[ 7,  8,  5,  0,  8],\n",
              "        [ 5,  4,  7,  4,  1],\n",
              "        [ 3,  3,  9,  2,  5],\n",
              "        [ 2,  3,  5,  7,  2]],\n",
              "\n",
              "       [[ 7,  1,  6,  5,  0],\n",
              "        [ 0,  3,  1,  9,  9],\n",
              "        [ 6,  6, 20,  8,  8],\n",
              "        [ 7,  0,  8,  6,  8]],\n",
              "\n",
              "       [[ 9,  8,  3,  6,  1],\n",
              "        [ 7,  4,  9,  2,  0],\n",
              "        [ 8,  2,  7,  8,  4],\n",
              "        [ 4,  1,  7,  6,  9]]])"
            ]
          },
          "metadata": {
            "tags": []
          },
          "execution_count": 66
        }
      ]
    },
    {
      "cell_type": "code",
      "metadata": {
        "id": "5cWJV91sDiS8"
      },
      "source": [
        "x3_new = x3[:2,:2,:2]"
      ],
      "execution_count": 68,
      "outputs": []
    },
    {
      "cell_type": "code",
      "metadata": {
        "id": "btkuHSRUD27s",
        "outputId": "ea2bd921-5368-45cd-9a82-79aee085c208",
        "colab": {
          "base_uri": "https://localhost:8080/",
          "height": 72
        }
      },
      "source": [
        "print(\"x3_new ndim: \", x3_new.ndim)\n",
        "print(\"x3_new shape:\", x3_new.shape)\n",
        "print(\"x3_new size: \", x3_new.size)"
      ],
      "execution_count": 70,
      "outputs": [
        {
          "output_type": "stream",
          "text": [
            "x3_new ndim:  3\n",
            "x3_new shape: (2, 2, 2)\n",
            "x3_new size:  8\n"
          ],
          "name": "stdout"
        }
      ]
    },
    {
      "cell_type": "markdown",
      "metadata": {
        "id": "KIoBKexLA-eK"
      },
      "source": [
        "### Reshaping"
      ]
    },
    {
      "cell_type": "code",
      "metadata": {
        "id": "HthsU7D6BD0g",
        "outputId": "de83fbb6-330d-46a2-99aa-3b9616ce4358",
        "colab": {
          "base_uri": "https://localhost:8080/",
          "height": 72
        }
      },
      "source": [
        "#Convertirlo en 3x3\n",
        "grid = np.arange(1, 10).reshape((3, 3))\n",
        "print(grid)"
      ],
      "execution_count": 75,
      "outputs": [
        {
          "output_type": "stream",
          "text": [
            "[[1 2 3]\n",
            " [4 5 6]\n",
            " [7 8 9]]\n"
          ],
          "name": "stdout"
        }
      ]
    },
    {
      "cell_type": "code",
      "metadata": {
        "id": "JBivc1trGOtx",
        "outputId": "733b5a90-3a54-48e1-c69b-38376c72cab4",
        "colab": {
          "base_uri": "https://localhost:8080/",
          "height": 35
        }
      },
      "source": [
        "#Antes era un vector\n",
        "np.arange(1, 10)"
      ],
      "execution_count": 76,
      "outputs": [
        {
          "output_type": "execute_result",
          "data": {
            "text/plain": [
              "array([1, 2, 3, 4, 5, 6, 7, 8, 9])"
            ]
          },
          "metadata": {
            "tags": []
          },
          "execution_count": 76
        }
      ]
    },
    {
      "cell_type": "code",
      "metadata": {
        "id": "Nz2YIHVoGifQ",
        "outputId": "711c2e35-9012-430b-96c8-0f26be30cc53",
        "colab": {
          "base_uri": "https://localhost:8080/",
          "height": 189
        }
      },
      "source": [
        "#Mi array incial debe permitir tener esa una forma, porque de lo contrario\n",
        "#Muestra error\n",
        "\n",
        "grid2 = np.arange(1, 8).reshape((3, 3))\n",
        "print(grid2)\n",
        "\n",
        "#No tiene elementos suficientes para construir una matriz 3x3"
      ],
      "execution_count": 77,
      "outputs": [
        {
          "output_type": "error",
          "ename": "ValueError",
          "evalue": "ignored",
          "traceback": [
            "\u001b[0;31m---------------------------------------------------------------------------\u001b[0m",
            "\u001b[0;31mValueError\u001b[0m                                Traceback (most recent call last)",
            "\u001b[0;32m<ipython-input-77-5c325b4640e3>\u001b[0m in \u001b[0;36m<module>\u001b[0;34m()\u001b[0m\n\u001b[0;32m----> 1\u001b[0;31m \u001b[0mgrid2\u001b[0m \u001b[0;34m=\u001b[0m \u001b[0mnp\u001b[0m\u001b[0;34m.\u001b[0m\u001b[0marange\u001b[0m\u001b[0;34m(\u001b[0m\u001b[0;36m1\u001b[0m\u001b[0;34m,\u001b[0m \u001b[0;36m8\u001b[0m\u001b[0;34m)\u001b[0m\u001b[0;34m.\u001b[0m\u001b[0mreshape\u001b[0m\u001b[0;34m(\u001b[0m\u001b[0;34m(\u001b[0m\u001b[0;36m3\u001b[0m\u001b[0;34m,\u001b[0m \u001b[0;36m3\u001b[0m\u001b[0;34m)\u001b[0m\u001b[0;34m)\u001b[0m\u001b[0;34m\u001b[0m\u001b[0;34m\u001b[0m\u001b[0m\n\u001b[0m\u001b[1;32m      2\u001b[0m \u001b[0mprint\u001b[0m\u001b[0;34m(\u001b[0m\u001b[0mgrid2\u001b[0m\u001b[0;34m)\u001b[0m\u001b[0;34m\u001b[0m\u001b[0;34m\u001b[0m\u001b[0m\n",
            "\u001b[0;31mValueError\u001b[0m: cannot reshape array of size 7 into shape (3,3)"
          ]
        }
      ]
    },
    {
      "cell_type": "markdown",
      "metadata": {
        "id": "A07amzQ9HcHw"
      },
      "source": [
        "### Join / Concatenation"
      ]
    },
    {
      "cell_type": "markdown",
      "metadata": {
        "id": "2zSgmN8sHs_s"
      },
      "source": [
        "* np.concatenate\n",
        "* np.vstack\n",
        "* np.hstack\n",
        "\n",
        "np.concatenate toma una lista o una tupla como el primer argumento"
      ]
    },
    {
      "cell_type": "markdown",
      "metadata": {
        "id": "EDyb35BSIX4U"
      },
      "source": [
        "#### np.concatenate"
      ]
    },
    {
      "cell_type": "code",
      "metadata": {
        "id": "wKvTjcALHfHm",
        "outputId": "7c523a24-c0b4-42de-a053-121257344081",
        "colab": {
          "base_uri": "https://localhost:8080/",
          "height": 35
        }
      },
      "source": [
        "x = np.array([1, 2, 3])\n",
        "y = np.array([3, 2, 1])\n",
        "np.concatenate([x, y])"
      ],
      "execution_count": 80,
      "outputs": [
        {
          "output_type": "execute_result",
          "data": {
            "text/plain": [
              "array([1, 2, 3, 3, 2, 1])"
            ]
          },
          "metadata": {
            "tags": []
          },
          "execution_count": 80
        }
      ]
    },
    {
      "cell_type": "code",
      "metadata": {
        "id": "X3w1cTi0IBVv",
        "outputId": "01510b91-994c-4584-8d95-8c2c4211ed70",
        "colab": {
          "base_uri": "https://localhost:8080/",
          "height": 35
        }
      },
      "source": [
        "#Se pueden concatenar más de dos\n",
        "z = [99, 99, 99]\n",
        "print(np.concatenate([x, y, z]))"
      ],
      "execution_count": 81,
      "outputs": [
        {
          "output_type": "stream",
          "text": [
            "[ 1  2  3  3  2  1 99 99 99]\n"
          ],
          "name": "stdout"
        }
      ]
    },
    {
      "cell_type": "code",
      "metadata": {
        "id": "ioILaH7TICSp"
      },
      "source": [
        "grid = np.array([[1, 2, 3],\n",
        "                 [4, 5, 6]])"
      ],
      "execution_count": 83,
      "outputs": []
    },
    {
      "cell_type": "code",
      "metadata": {
        "id": "36ITdd5JIOHf",
        "outputId": "73d3172f-6bd6-464d-e55a-0c457a8b9d67",
        "colab": {
          "base_uri": "https://localhost:8080/",
          "height": 90
        }
      },
      "source": [
        "# concatenate along the first axis\n",
        "np.concatenate([grid, grid])"
      ],
      "execution_count": 84,
      "outputs": [
        {
          "output_type": "execute_result",
          "data": {
            "text/plain": [
              "array([[1, 2, 3],\n",
              "       [4, 5, 6],\n",
              "       [1, 2, 3],\n",
              "       [4, 5, 6]])"
            ]
          },
          "metadata": {
            "tags": []
          },
          "execution_count": 84
        }
      ]
    },
    {
      "cell_type": "code",
      "metadata": {
        "id": "PuL_WNCnISW4",
        "outputId": "4fc006fe-db93-425d-cb1d-9a77b3d0c9d9",
        "colab": {
          "base_uri": "https://localhost:8080/",
          "height": 54
        }
      },
      "source": [
        "# concatenate along the first axis\n",
        "np.concatenate([grid, grid], axis=1)"
      ],
      "execution_count": 85,
      "outputs": [
        {
          "output_type": "execute_result",
          "data": {
            "text/plain": [
              "array([[1, 2, 3, 1, 2, 3],\n",
              "       [4, 5, 6, 4, 5, 6]])"
            ]
          },
          "metadata": {
            "tags": []
          },
          "execution_count": 85
        }
      ]
    },
    {
      "cell_type": "markdown",
      "metadata": {
        "id": "CY2-u9tcIbJh"
      },
      "source": [
        "#### np.vstack / np.hstack"
      ]
    },
    {
      "cell_type": "markdown",
      "metadata": {
        "id": "QhmQmFAEIfDl"
      },
      "source": [
        "para arrays con diferentes dimensiones \n",
        "\n",
        "el orden importa y las dimensiones también"
      ]
    },
    {
      "cell_type": "code",
      "metadata": {
        "id": "tGZ7I1idIUtO",
        "outputId": "2bc84233-2167-4745-9606-b7e32a67fe03",
        "colab": {
          "base_uri": "https://localhost:8080/",
          "height": 72
        }
      },
      "source": [
        "#Vertical\n",
        "x = np.array([1, 2, 3])\n",
        "grid = np.array([[9, 8, 7],\n",
        "                 [6, 5, 4]])\n",
        "\n",
        "# vertically stack the arrays\n",
        "np.vstack([x, grid])"
      ],
      "execution_count": 89,
      "outputs": [
        {
          "output_type": "execute_result",
          "data": {
            "text/plain": [
              "array([[1, 2, 3],\n",
              "       [9, 8, 7],\n",
              "       [6, 5, 4]])"
            ]
          },
          "metadata": {
            "tags": []
          },
          "execution_count": 89
        }
      ]
    },
    {
      "cell_type": "code",
      "metadata": {
        "id": "hQZKM2IpIo05",
        "outputId": "bd7430a0-ea85-431d-c1c2-756dd59c00db",
        "colab": {
          "base_uri": "https://localhost:8080/",
          "height": 54
        }
      },
      "source": [
        "#Horizontar\n",
        "y = np.array([[99],\n",
        "              [99]])\n",
        "np.hstack([grid, y])\n",
        "\n",
        "#notar que el orden importa"
      ],
      "execution_count": 87,
      "outputs": [
        {
          "output_type": "execute_result",
          "data": {
            "text/plain": [
              "array([[ 9,  8,  7, 99],\n",
              "       [ 6,  5,  4, 99]])"
            ]
          },
          "metadata": {
            "tags": []
          },
          "execution_count": 87
        }
      ]
    }
  ]
}